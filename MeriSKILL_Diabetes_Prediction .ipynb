{
 "cells": [
  {
   "cell_type": "markdown",
   "metadata": {
    "id": "YcpbnmjohCdt"
   },
   "source": [
    "# About Dataset\n",
    "\n",
    "* This dataset is originally from the National Institute of Diabetes and Digestive and Kidney Diseases.\n",
    "* The objective of the dataset is to diagnostically predict whether a patient has diabetes based on certain diagnostic measurements included in the dataset. * Several constraints were placed on the selection of these instances from a larger database.\n",
    "* In particular, all patients here are females at least 21 years old of Pima Indian heritage."
   ]
  },
  {
   "cell_type": "markdown",
   "metadata": {
    "id": "xuOuSUy2hCXG"
   },
   "source": [
    "# **Importing Libraries**"
   ]
  },
  {
   "cell_type": "code",
   "execution_count": 1,
   "metadata": {
    "id": "-KDQXYMXgqqn"
   },
   "outputs": [
    {
     "ename": "ModuleNotFoundError",
     "evalue": "No module named 'missingno'",
     "output_type": "error",
     "traceback": [
      "\u001b[1;31m---------------------------------------------------------------------------\u001b[0m",
      "\u001b[1;31mModuleNotFoundError\u001b[0m                       Traceback (most recent call last)",
      "Cell \u001b[1;32mIn[1], line 4\u001b[0m\n\u001b[0;32m      2\u001b[0m \u001b[38;5;28;01mimport\u001b[39;00m \u001b[38;5;21;01mnumpy\u001b[39;00m \u001b[38;5;28;01mas\u001b[39;00m \u001b[38;5;21;01mnp\u001b[39;00m\n\u001b[0;32m      3\u001b[0m \u001b[38;5;28;01mimport\u001b[39;00m \u001b[38;5;21;01mseaborn\u001b[39;00m \u001b[38;5;28;01mas\u001b[39;00m \u001b[38;5;21;01msns\u001b[39;00m\n\u001b[1;32m----> 4\u001b[0m \u001b[38;5;28;01mimport\u001b[39;00m \u001b[38;5;21;01mmissingno\u001b[39;00m \u001b[38;5;28;01mas\u001b[39;00m \u001b[38;5;21;01mmsno\u001b[39;00m\n\u001b[0;32m      5\u001b[0m \u001b[38;5;28;01mimport\u001b[39;00m \u001b[38;5;21;01mmatplotlib\u001b[39;00m\u001b[38;5;21;01m.\u001b[39;00m\u001b[38;5;21;01mpyplot\u001b[39;00m \u001b[38;5;28;01mas\u001b[39;00m \u001b[38;5;21;01mplt\u001b[39;00m\n\u001b[0;32m      6\u001b[0m \u001b[38;5;28;01mfrom\u001b[39;00m \u001b[38;5;21;01mpandas\u001b[39;00m\u001b[38;5;21;01m.\u001b[39;00m\u001b[38;5;21;01mplotting\u001b[39;00m \u001b[38;5;28;01mimport\u001b[39;00m scatter_matrix\n",
      "\u001b[1;31mModuleNotFoundError\u001b[0m: No module named 'missingno'"
     ]
    }
   ],
   "source": [
    "import pandas as pd\n",
    "import numpy as np\n",
    "import seaborn as sns\n",
    "import missingno as msno\n",
    "import matplotlib.pyplot as plt\n",
    "from pandas.plotting import scatter_matrix\n",
    "from sklearn.metrics import roc_curve, auc\n",
    "from sklearn.preprocessing import StandardScaler\n",
    "from sklearn.linear_model import LogisticRegression\n",
    "from sklearn.model_selection import train_test_split\n",
    "from sklearn.metrics import precision_recall_curve, average_precision_score\n",
    "from sklearn.metrics import accuracy_score, classification_report, confusion_matrix"
   ]
  },
  {
   "cell_type": "markdown",
   "metadata": {
    "id": "IJ5HLapxiGGU"
   },
   "source": [
    "# Loading the dataset"
   ]
  },
  {
   "cell_type": "code",
   "execution_count": null,
   "metadata": {
    "colab": {
     "base_uri": "https://localhost:8080/",
     "height": 363
    },
    "id": "WUas9YShh_K7",
    "outputId": "3345021c-bcd7-4565-c535-1b69c889935e"
   },
   "outputs": [],
   "source": [
    "data = pd.read_csv('C:\\Users\\ASUS\\Downloads\\diabetes.csv')\n",
    "data.head(n=10)"
   ]
  },
  {
   "cell_type": "markdown",
   "metadata": {
    "id": "mMXE8aslicHI"
   },
   "source": [
    "# **Exploratory Data Analysis**"
   ]
  },
  {
   "cell_type": "code",
   "execution_count": null,
   "metadata": {
    "colab": {
     "base_uri": "https://localhost:8080/"
    },
    "id": "9-FJN86Fif-h",
    "outputId": "47bebe91-6dc1-4ac6-fe52-ae31a07896d1"
   },
   "outputs": [],
   "source": [
    "# Check the shape of dataset\n",
    "data.shape"
   ]
  },
  {
   "cell_type": "code",
   "execution_count": null,
   "metadata": {
    "colab": {
     "base_uri": "https://localhost:8080/"
    },
    "id": "PdKpkT_yjLv4",
    "outputId": "bcfed9b2-c818-418d-ea7c-15812de76c68"
   },
   "outputs": [],
   "source": [
    "# Check number of columns\n",
    "data.columns"
   ]
  },
  {
   "cell_type": "code",
   "execution_count": null,
   "metadata": {
    "colab": {
     "base_uri": "https://localhost:8080/"
    },
    "id": "2h9kuhUwioNf",
    "outputId": "5fc5bd04-324b-48ab-c77a-822753c816e3"
   },
   "outputs": [],
   "source": [
    "# Check number of columns\n",
    "data.nunique()"
   ]
  },
  {
   "cell_type": "code",
   "execution_count": null,
   "metadata": {
    "colab": {
     "base_uri": "https://localhost:8080/"
    },
    "id": "4Gs3yBISjJ9A",
    "outputId": "e5c5bbac-d30f-4316-cb14-c407b4654c50"
   },
   "outputs": [],
   "source": [
    "# Check the type of data to decide what algorithm to use for training\n",
    "data.info()\n",
    "\n",
    "# Observation-\n",
    "# All are numerical value so we will go for Linear Regression"
   ]
  },
  {
   "cell_type": "code",
   "execution_count": null,
   "metadata": {
    "colab": {
     "base_uri": "https://localhost:8080/",
     "height": 300
    },
    "id": "g0vmKWR_jkQM",
    "outputId": "7844a639-c053-4494-c0be-aa08c6715e3e"
   },
   "outputs": [],
   "source": [
    "# Descriptive Statistics of the Dataset\n",
    "data.describe()"
   ]
  },
  {
   "cell_type": "markdown",
   "metadata": {
    "id": "xYKYVqndkNOS"
   },
   "source": [
    "### <u>Observation</u>-\n",
    "* Min row shows zeros in several columns, which could indicate missing values or data entry errors, as some of these measurements (like Glucose, BloodPressure, SkinThickness, Insulin, and BMI) should logically not be zero."
   ]
  },
  {
   "cell_type": "markdown",
   "metadata": {
    "id": "7DIygOLykkFG"
   },
   "source": [
    "### Handling Missing Value: Checking for NaN or Null values and handle missing values if any."
   ]
  },
  {
   "cell_type": "code",
   "execution_count": null,
   "metadata": {
    "colab": {
     "base_uri": "https://localhost:8080/"
    },
    "id": "y3RN9BpjkDV7",
    "outputId": "7cf9e90c-f6a3-4885-ded8-d9de00b73ec7"
   },
   "outputs": [],
   "source": [
    "# Checking total null values in the overall dataset\n",
    "data.isnull().sum()"
   ]
  },
  {
   "cell_type": "code",
   "execution_count": null,
   "metadata": {
    "colab": {
     "base_uri": "https://localhost:8080/"
    },
    "id": "HCQ5wWkQl7Fd",
    "outputId": "daea752b-7230-4bc9-d515-bbe33cab29a8"
   },
   "outputs": [],
   "source": [
    "# Check for rows with zero values\n",
    "rows_with_zeros = data[(data == 0).any(axis=1)]\n",
    "\n",
    "# Display the rows with zero values\n",
    "print(\"Rows with zero values:\")\n",
    "print(rows_with_zeros)"
   ]
  },
  {
   "cell_type": "markdown",
   "metadata": {
    "id": "TgXbhRTFttsg"
   },
   "source": [
    "### Note-\n",
    "* In this example, the (df == 0) part creates a boolean DataFrame where each element is True if the corresponding element in the original DataFrame is equal to zero and False otherwise.\n",
    "* The any(axis=1) part checks if there is at least one True value along each row (axis=1).\n",
    "* The result is a boolean Series, which is then used to index the original DataFrame, selecting only the rows where at least one element is zero.\n",
    "\n",
    "### Solution -\n",
    "* Result: The zero value in some columns does not make sense and may indicate missing values. In particular, the columns Glucose, BloodPressure, SkinThickness, Insulin, and BMI should not have zeros, as it would not be physiologically plausible (for example, a glucose or blood pressure measurement of zero). Therefore, these zeros should be replaced with NaN so that these \"false non-missing values\" are accounted for correctly"
   ]
  },
  {
   "cell_type": "code",
   "execution_count": null,
   "metadata": {
    "colab": {
     "base_uri": "https://localhost:8080/"
    },
    "id": "qLvwFNU0tA5S",
    "outputId": "ef871e93-ff20-4a38-8c88-dfccf2026857"
   },
   "outputs": [],
   "source": [
    "# Create a copy of the DataFrame to avoid modifying the original data\n",
    "data_copy = data.copy(deep=True)\n",
    "\n",
    "# Replace zeros with NaN in specific columns\n",
    "cols_to_replace_zeros = ['Glucose', 'BloodPressure', 'SkinThickness', 'Insulin', 'BMI']\n",
    "data_copy[cols_to_replace_zeros] = data_copy[cols_to_replace_zeros].replace(0, np.nan)\n",
    "\n",
    "# Check missing values again after replacement\n",
    "print(data_copy.isnull().sum())"
   ]
  },
  {
   "cell_type": "markdown",
   "metadata": {
    "id": "U3TLSkkewOZN"
   },
   "source": [
    "### **Result:**\n",
    "* The output shown is the result of calling the isnull().sum() function on a modified DataFrame that provides multiple NaN values ​​in each column.\n",
    "* The results show that the columns \"Blood Glucose\", \"Blood Pressure\", \"Skin Thickness\", \"Insulin\" and \"BMI\" have varying numbers of NaN values, indicating that the zeros in these columns are considered missing or invalid and replaced by NaN .\n",
    "* For example, \"glucose\" has 5 NaN values, \"blood pressure\" has 35, \"skin thickness\" has 227, \"insulin\" has 374, and \"BMI\" has 11. Other columns, such as \"Pregnancy\", \"Diabetes Spectrum Function\", \"Age\" and \"Result\" do not have NaN values, which means zeros are not replaced in these columns."
   ]
  },
  {
   "cell_type": "markdown",
   "metadata": {
    "id": "sKze9YB9worF"
   },
   "source": [
    "# **Data Visualization**-"
   ]
  },
  {
   "cell_type": "code",
   "execution_count": null,
   "metadata": {
    "colab": {
     "base_uri": "https://localhost:8080/",
     "height": 621
    },
    "id": "fibZodT_w1DS",
    "outputId": "f525a359-2b46-4d79-ca01-22f93a9ba42c"
   },
   "outputs": [],
   "source": [
    "# Heatmap before replacement\n",
    "sns.heatmap(data.isnull())"
   ]
  },
  {
   "cell_type": "code",
   "execution_count": null,
   "metadata": {
    "colab": {
     "base_uri": "https://localhost:8080/",
     "height": 621
    },
    "id": "ar93sIKXwAJn",
    "outputId": "65ec9657-b66f-432e-9933-da0fcbbb4895"
   },
   "outputs": [],
   "source": [
    "# Heatmap after replacement\n",
    "sns.heatmap(data_copy.isnull())"
   ]
  },
  {
   "cell_type": "markdown",
   "metadata": {
    "id": "IHyp0qoyw_yy"
   },
   "source": [
    "**Comment**:\n",
    "This heatmap visualizes missing data in a diabetes copy dataset, where warmer colors represent a higher frequency of NaN values. It shows significant missing data for 'Insulin' and 'SkinThickness', moderate for 'BloodPressure' and 'BMI', and minimal for 'Glucose'. The other features, 'Pregnancies', 'DiabetesPedigreeFunction', 'Age', and 'Outcome', show no missing data. This heatmap effectively highlights the areas in the dataset that may require imputation or further data cleansing"
   ]
  },
  {
   "cell_type": "code",
   "execution_count": null,
   "metadata": {
    "colab": {
     "base_uri": "https://localhost:8080/",
     "height": 1000
    },
    "id": "7wG-SSJrwzLS",
    "outputId": "51e7c825-fef6-4a2e-fb3c-d2c0aa4f7e76"
   },
   "outputs": [],
   "source": [
    "# Visualization the histograms before replacement\n",
    "data.hist(figsize=(20,20))\n",
    "plt.show()"
   ]
  },
  {
   "cell_type": "code",
   "execution_count": null,
   "metadata": {
    "colab": {
     "base_uri": "https://localhost:8080/",
     "height": 1000
    },
    "id": "8YUvttTPxkxf",
    "outputId": "07b8ae74-3062-440b-d370-d26c276804b4"
   },
   "outputs": [],
   "source": [
    "# Replace NaN values with the mean or median of the corresponding columns\n",
    "# Replace with mean when the data is approximately normally distributed\n",
    "# Replace with median when the data is skewed or contains outliers.\n",
    "data_copy['Glucose'].fillna(data_copy['Glucose'].mean(), inplace=True)\n",
    "data_copy['BloodPressure'].fillna(data_copy['BloodPressure'].mean(), inplace=True)\n",
    "data_copy['SkinThickness'].fillna(data_copy['SkinThickness'].median(), inplace=True)\n",
    "data_copy['Insulin'].fillna(data_copy['Insulin'].median(), inplace=True)\n",
    "data_copy['BMI'].fillna(data_copy['BMI'].mean(), inplace=True)\n",
    "\n",
    "# Visalization the histograms after replacement\n",
    "p = data_copy.hist(figsize=(20,20))"
   ]
  },
  {
   "cell_type": "markdown",
   "metadata": {
    "id": "E4iCGwM1x1nA"
   },
   "source": [
    "**Result:**\n",
    "- Most individuals have a low to moderate number of pregnancies.\n",
    "- Glucose and blood pressure levels cluster around common values, indicating a normal distribution without extreme variations.\n",
    "- Skin thickness and insulin levels show a rightward skew in their distribution, with a few individuals having significantly higher values than the majority.\n",
    "- BMI values are predominantly on the higher side, suggesting a prevalence of overweight conditions in the studied population.\n",
    "- The diabetes pedigree function, which reflects genetic risk, is generally low with a few higher cases distributed sporadically.\n",
    "- The age distribution is mainly concentrated in the younger to middle-aged bracket, with fewer older individuals.\n",
    "- There are more non-diabetic than diabetic cases in the dataset."
   ]
  },
  {
   "cell_type": "code",
   "execution_count": null,
   "metadata": {
    "id": "ldQOK16TzuRw"
   },
   "outputs": [],
   "source": [
    "# Plot scatter matrix of uncleand data\n",
    "P = scatter_matrix(data, figsize=(20,20))"
   ]
  },
  {
   "cell_type": "code",
   "execution_count": null,
   "metadata": {
    "colab": {
     "base_uri": "https://localhost:8080/",
     "height": 1000
    },
    "id": "FiEJ4Lqt0S1i",
    "outputId": "34eea1e1-bdd2-4471-a1ab-1ba51b10018a"
   },
   "outputs": [],
   "source": [
    "#plotting pair plots for the data\n",
    "sns.pairplot(data_copy, hue='Outcome')\n",
    "plt.show"
   ]
  },
  {
   "cell_type": "markdown",
   "metadata": {
    "id": "j5ip3q7Z0ntI"
   },
   "source": [
    "**Result:**\n",
    "\n",
    "1- High Glucose level in pregnancy increase the risk of diabete.\n",
    "\n",
    "2- BMI Above 30 and high level of Glucose togather increase the risk of diabees.\n",
    "\n",
    "3- We can see here that increasing Glucose level is the key factor which increase the risk of diaetes.\n",
    "\n",
    "4- High Glucose level along with other variables increase the risk of diabetes."
   ]
  },
  {
   "cell_type": "code",
   "execution_count": null,
   "metadata": {
    "colab": {
     "base_uri": "https://localhost:8080/",
     "height": 1000
    },
    "id": "GEo2SN-A0oLB",
    "outputId": "6b532ab3-a2c3-47ae-8f7e-d824f2491b15"
   },
   "outputs": [],
   "source": [
    "# Histplot of dataset - variables relation with Outcome\n",
    "pno = 1\n",
    "plt.figure(figsize=(18,20))\n",
    "for i in data.columns:\n",
    "        if pno<9:\n",
    "            plt.subplot(3,3,pno)\n",
    "            ax = sns.histplot(data = data , x = i , hue = data.Outcome , kde = True);\n",
    "            plt.xlabel(i)\n",
    "            pno+=1\n",
    "            for i in ax.containers:                                                   #to set a label on top of the bars.\n",
    "                ax.bar_label(i,)"
   ]
  },
  {
   "cell_type": "markdown",
   "metadata": {
    "id": "Bwnr8k1L1KIP"
   },
   "source": [
    "# **<u>Outcome</u>:**\n",
    "\n",
    "1. When the number of pregnancies increases the risk of diabetes also increase.\n",
    "2. When the level of Glucose increase above 125 the risk of diabetes also increase.\n",
    "3. Blood pressure between 60 to 90 have more diabetic people than other rate.\n",
    "4. Risk of diabetes increase when skin thickness increase.\n",
    "5. Insulin level affect diabetes when its level increase the risk of diabetes also increase.\n",
    "6. When BMI increase above 30 the risk of diabetes also increase.\n",
    "7. The histogram with kernel density overlay indicates that higher DiabetesPedigree Function values are more common among individuals with diabetes compared to those without.\n",
    "8. Risk of diabetes increase when age increase."
   ]
  },
  {
   "cell_type": "code",
   "execution_count": null,
   "metadata": {
    "colab": {
     "base_uri": "https://localhost:8080/"
    },
    "id": "sM0n7ct308CV",
    "outputId": "c3d48e67-41ea-4b84-9340-04dcca544b18"
   },
   "outputs": [],
   "source": [
    "correlation = data.corr()\n",
    "print(correlation)"
   ]
  },
  {
   "cell_type": "code",
   "execution_count": null,
   "metadata": {
    "colab": {
     "base_uri": "https://localhost:8080/",
     "height": 866
    },
    "id": "AkEyxNyg22kg",
    "outputId": "912b8257-f764-4224-cf67-23d7b1805f37"
   },
   "outputs": [],
   "source": [
    "#Visualizing the Correlation Matrix\n",
    "plt.figure(figsize=(10, 8))\n",
    "sns.heatmap(correlation, annot=True, cmap='coolwarm', fmt=\".2f\")\n",
    "plt.title('Correlation Matrix')\n",
    "plt.show()"
   ]
  },
  {
   "cell_type": "markdown",
   "metadata": {
    "id": "2jfDdCrc3KgI"
   },
   "source": [
    "### Observation-\n",
    "* Only Age with pregnancy, and glucose with outcome show some good correlation with each other"
   ]
  },
  {
   "cell_type": "code",
   "execution_count": null,
   "metadata": {
    "colab": {
     "base_uri": "https://localhost:8080/",
     "height": 619
    },
    "id": "oJV_Rk-A28QS",
    "outputId": "39bf8931-bc3f-4330-bd03-cc037229e081"
   },
   "outputs": [],
   "source": [
    "fig, ax = plt.subplots(1,2, figsize=(14,7))\n",
    "sns.countplot(data = data, x= \"Outcome\", ax = ax[0])\n",
    "data[\"Outcome\"].value_counts().plot.pie(explode= [0.1,0], autopct= \"%1.2F%%\", labels= [\"No \",\"Yes\"], shadow= True, ax=ax[1])\n",
    "plt.show()"
   ]
  },
  {
   "cell_type": "markdown",
   "metadata": {
    "id": "eUVQ9e9H4yLi"
   },
   "source": [
    "# **Preprocessing**-"
   ]
  },
  {
   "cell_type": "code",
   "execution_count": null,
   "metadata": {
    "id": "h7o3XgzA3vIa"
   },
   "outputs": [],
   "source": [
    "# Split the Data:\n",
    "# Spliting the dataset into features (X) and the target variable (y).\n",
    "\n",
    "X =data.drop(\"Outcome\" ,axis=1)\n",
    "y =data['Outcome']"
   ]
  },
  {
   "cell_type": "code",
   "execution_count": null,
   "metadata": {
    "id": "2pYZ4kt15Fj8"
   },
   "outputs": [],
   "source": [
    "# Splitting the dataset into a training set and a testing set\n",
    "X_train,X_test,y_train,y_test=train_test_split(X,y,test_size=0.2,random_state=23)"
   ]
  },
  {
   "cell_type": "code",
   "execution_count": null,
   "metadata": {
    "colab": {
     "base_uri": "https://localhost:8080/"
    },
    "id": "jjBczVSV5rUq",
    "outputId": "9361c8ae-fd53-47b4-9dd6-5cc03acccfca"
   },
   "outputs": [],
   "source": [
    "print(y_test.shape)   # 1D Shape\n",
    "print(X_test.shape)   # 2D shape\n",
    "print(y_train.shape)  # 1D Shape\n",
    "X_train.shape         # 2D shape"
   ]
  },
  {
   "cell_type": "markdown",
   "metadata": {
    "id": "-DRCAOnf-qAh"
   },
   "source": [
    "# **Linear Regression**-"
   ]
  },
  {
   "cell_type": "code",
   "execution_count": null,
   "metadata": {
    "colab": {
     "base_uri": "https://localhost:8080/",
     "height": 74
    },
    "id": "jJ_-JYKm6GV8",
    "outputId": "ac5097a9-b744-4690-cfb4-dde436864661"
   },
   "outputs": [],
   "source": [
    "#Train the model\n",
    "model=LogisticRegression(max_iter=768)\n",
    "\n",
    "# Fitting model\n",
    "model.fit(X_train,y_train)"
   ]
  },
  {
   "cell_type": "code",
   "execution_count": null,
   "metadata": {
    "colab": {
     "base_uri": "https://localhost:8080/"
    },
    "id": "nqzt_D-F6X8F",
    "outputId": "9a66fab9-b8b4-42b0-a5cc-628a0fadcc1a"
   },
   "outputs": [],
   "source": [
    "#Testing the model on remaining 20%\n",
    "y_pred = model.predict(X_test)\n",
    "y_pred"
   ]
  },
  {
   "cell_type": "code",
   "execution_count": null,
   "metadata": {
    "colab": {
     "base_uri": "https://localhost:8080/"
    },
    "id": "xj8zp_R46rCd",
    "outputId": "dc7de346-7f66-40aa-b249-0e4ad53a02a0"
   },
   "outputs": [],
   "source": [
    "y_test"
   ]
  },
  {
   "cell_type": "markdown",
   "metadata": {
    "id": "C8tm2xBF69IF"
   },
   "source": [
    "# **Evaluation Matrix**-"
   ]
  },
  {
   "cell_type": "code",
   "execution_count": null,
   "metadata": {
    "colab": {
     "base_uri": "https://localhost:8080/",
     "height": 643
    },
    "id": "wx1dpuDV7n29",
    "outputId": "dc769a2b-d65f-4a23-8e60-2efb6a14fcc8"
   },
   "outputs": [],
   "source": [
    "y_pred = model.predict(X_test)\n",
    "cm = confusion_matrix(y_test, y_pred)\n",
    "lr_train_acc = round(accuracy_score(y_train,model.predict(X_train))*100,2)\n",
    "lr_test_acc = round(accuracy_score(y_test,y_pred)*100,2)\n",
    "print(classification_report(y_pred,y_test))\n",
    "print('Training Accuracy = ' , lr_train_acc,' %')\n",
    "print('Testing Accuracy = ' , lr_test_acc,' %')\n",
    "sns.heatmap(cm,annot=True, fmt='d', cmap='Blues', cbar=False,)          #cbar- on right side shows the range in color bar\n",
    "plt.title('Logistic Regresstion Confusion Matrix');"
   ]
  },
  {
   "cell_type": "markdown",
   "metadata": {
    "id": "aaDhSm-X8Ykc"
   },
   "source": [
    "# **Prediction**-"
   ]
  },
  {
   "cell_type": "code",
   "execution_count": null,
   "metadata": {
    "colab": {
     "base_uri": "https://localhost:8080/"
    },
    "id": "9j9KW8-_8ejH",
    "outputId": "d273cb9a-c3e0-4de4-dcf1-ba07896867bc"
   },
   "outputs": [],
   "source": [
    "new_data = pd.DataFrame({\n",
    "    'Pregnancies': [3],\n",
    "    'Glucose': [115],\n",
    "    'BloodPressure': [60],\n",
    "    'SkinThickness': [20],\n",
    "    'Insulin': [90],\n",
    "    'BMI': [23.4],\n",
    "    'DiabetesPedigreeFunction': [0.25],\n",
    "    'Age': [23]\n",
    "})\n",
    "\n",
    "new_predictions = model.predict(new_data)\n",
    "print(\"Predictions for new data:\", new_predictions)"
   ]
  },
  {
   "cell_type": "markdown",
   "metadata": {
    "id": "kglyx3l4-nCA"
   },
   "source": [
    "# Random Forest Classifier"
   ]
  },
  {
   "cell_type": "code",
   "execution_count": null,
   "metadata": {
    "id": "XaOivAMF9-KR"
   },
   "outputs": [],
   "source": [
    "from sklearn.ensemble import RandomForestClassifier\n",
    "\n",
    "rf=RandomForestClassifier(n_estimators=10)\n",
    "rf.fit(X_train,y_train)\n",
    "y_pred=rf.predict(X_test)\n"
   ]
  },
  {
   "cell_type": "code",
   "execution_count": null,
   "metadata": {
    "colab": {
     "base_uri": "https://localhost:8080/",
     "height": 643
    },
    "id": "i4RCoy8R-PsR",
    "outputId": "82a2c772-d16d-42c2-a54f-de6460c0eac4"
   },
   "outputs": [],
   "source": [
    "y_pred = rf.predict(X_test)\n",
    "cm = confusion_matrix(y_test, y_pred)\n",
    "rf_train_acc = round(accuracy_score(y_train,rf.predict(X_train))*100,2)\n",
    "rf_test_acc = round(accuracy_score(y_test,y_pred)*100,2)\n",
    "print(classification_report(y_pred,y_test))\n",
    "print('Training Accuracy = ' , rf_train_acc,' %')\n",
    "print('Testing Accuracy = ' , rf_test_acc,' %')\n",
    "sns.heatmap(cm,annot=True, fmt='d', cmap='Blues', cbar=False,)          #cbar- on right side shows the range in color bar\n",
    "plt.title('Random Forest Classifier Confusion Matrix');"
   ]
  },
  {
   "cell_type": "code",
   "execution_count": null,
   "metadata": {
    "colab": {
     "base_uri": "https://localhost:8080/"
    },
    "id": "sRT00G5Z-Pmd",
    "outputId": "d2fb01cf-b5fd-47d5-8953-9da04ee54dd0"
   },
   "outputs": [],
   "source": [
    "new_data = pd.DataFrame({\n",
    "    'Pregnancies': [5],\n",
    "    'Glucose': [190],\n",
    "    'BloodPressure': [110],\n",
    "    'SkinThickness': [20],\n",
    "    'Insulin': [100],\n",
    "    'BMI': [36.4],\n",
    "    'DiabetesPedigreeFunction': [0.25],\n",
    "    'Age': [29]\n",
    "})\n",
    "\n",
    "new_predictions = rf.predict(new_data)\n",
    "print(\"Predictions for new data:\", new_predictions)"
   ]
  },
  {
   "cell_type": "markdown",
   "metadata": {
    "id": "WfGfhXjT_VYu"
   },
   "source": [
    "# Hyper Parameter Tunning- GridSearchCV"
   ]
  },
  {
   "cell_type": "code",
   "execution_count": null,
   "metadata": {
    "colab": {
     "base_uri": "https://localhost:8080/",
     "height": 117
    },
    "id": "GgxfE1pc_UOO",
    "outputId": "b84b11cd-209d-4384-8f6a-98324150e6ed"
   },
   "outputs": [],
   "source": [
    "from sklearn.model_selection import GridSearchCV\n",
    "\n",
    "param= {'n_estimators': [10,20,30,40,50], 'bootstrap':[True,False]}\n",
    "gsc= GridSearchCV(estimator=rf,\n",
    "                  param_grid=param,\n",
    "                  scoring='accuracy')\n",
    "gsc.fit(X_train,y_train)"
   ]
  },
  {
   "cell_type": "code",
   "execution_count": null,
   "metadata": {
    "colab": {
     "base_uri": "https://localhost:8080/"
    },
    "id": "UQlw81HM_yeV",
    "outputId": "b419ecf4-6706-4dcd-d246-946ee35bb594"
   },
   "outputs": [],
   "source": [
    "gsc.best_params_"
   ]
  },
  {
   "cell_type": "code",
   "execution_count": null,
   "metadata": {
    "colab": {
     "base_uri": "https://localhost:8080/"
    },
    "id": "rQGgyk0lAD6R",
    "outputId": "50af967c-a8fe-4b1d-e1d1-b83080f5ad73"
   },
   "outputs": [],
   "source": [
    "gsc.best_score_"
   ]
  },
  {
   "cell_type": "code",
   "execution_count": null,
   "metadata": {
    "colab": {
     "base_uri": "https://localhost:8080/",
     "height": 643
    },
    "id": "i7Nk5nNsASmV",
    "outputId": "4a0062ab-5f96-4bf3-ce8b-a8ecbd0f3135"
   },
   "outputs": [],
   "source": [
    "y_pred = gsc.predict(X_test)\n",
    "cm = confusion_matrix(y_test, y_pred)\n",
    "gsc_train_acc = round(accuracy_score(y_train,gsc.predict(X_train))*100,2)\n",
    "gsc_test_acc = round(accuracy_score(y_test,y_pred)*100,2)\n",
    "print(classification_report(y_pred,y_test))\n",
    "print('Training Accuracy = ' , gsc_train_acc,' %')\n",
    "print('Testing Accuracy = ' , gsc_test_acc,' %')\n",
    "sns.heatmap(cm,annot=True, fmt='d', cmap='Blues', cbar=False,)          #cbar- on right side shows the range in color bar\n",
    "plt.title('GridSearchCV Confusion Matrix');"
   ]
  },
  {
   "cell_type": "code",
   "execution_count": null,
   "metadata": {
    "id": "J5X5CAu0LB__"
   },
   "outputs": [],
   "source": [
    "models = pd.DataFrame({\n",
    "    'Model': [\n",
    "        'Logistic Regression','Random Forest','HyperParamter Tunning'\n",
    "    ],\n",
    "    'Training Accuracy': [\n",
    "        lr_train_acc,rf_train_acc,gsc_train_acc\n",
    "    ],\n",
    "    'Testing Accuracy': [\n",
    "       lr_test_acc,rf_test_acc,gsc_test_acc\n",
    "    ]\n",
    "})"
   ]
  },
  {
   "cell_type": "code",
   "execution_count": null,
   "metadata": {
    "colab": {
     "base_uri": "https://localhost:8080/",
     "height": 143
    },
    "id": "ZZzoxdWlMZPx",
    "outputId": "949d5ab5-a1b7-4619-a246-ecc260785554"
   },
   "outputs": [],
   "source": [
    "models"
   ]
  },
  {
   "cell_type": "code",
   "execution_count": null,
   "metadata": {
    "colab": {
     "base_uri": "https://localhost:8080/",
     "height": 143
    },
    "id": "ofF-J2pfL2-v",
    "outputId": "e7502d20-4863-4973-daa1-39f95296a269"
   },
   "outputs": [],
   "source": [
    "models.sort_values(by=['Testing Accuracy','Training Accuracy'], ascending=False).style.background_gradient(\n",
    "        cmap='coolwarm')"
   ]
  },
  {
   "cell_type": "markdown",
   "metadata": {
    "id": "5cBmDU_jOxHa"
   },
   "source": [
    "### Note- We can try implementing many more machine learning algorithms for the above dataset like support vector machine, decision tree, XGBoost for checking the accuracy of prediction."
   ]
  }
 ],
 "metadata": {
  "colab": {
   "provenance": []
  },
  "kernelspec": {
   "display_name": "Python 3 (ipykernel)",
   "language": "python",
   "name": "python3"
  },
  "language_info": {
   "codemirror_mode": {
    "name": "ipython",
    "version": 3
   },
   "file_extension": ".py",
   "mimetype": "text/x-python",
   "name": "python",
   "nbconvert_exporter": "python",
   "pygments_lexer": "ipython3",
   "version": "3.11.5"
  }
 },
 "nbformat": 4,
 "nbformat_minor": 1
}
